{
  "nbformat": 4,
  "nbformat_minor": 0,
  "metadata": {
    "colab": {
      "provenance": []
    },
    "kernelspec": {
      "name": "python3",
      "display_name": "Python 3"
    },
    "language_info": {
      "name": "python"
    }
  },
  "cells": [
    {
      "cell_type": "markdown",
      "source": [
        "# **UofT DSI Algorithms**\n",
        "**Assignment 1**\n",
        "\n",
        "Submitted by Suzanne M Chalambalacis\n",
        "22-Feb-2024"
      ],
      "metadata": {
        "id": "n7_ixzbVNH-V"
      }
    },
    {
      "cell_type": "markdown",
      "source": [
        "**Part 1:**\n",
        "\n",
        "You will be assigned one of three problems. You can find the problem description in q[assigned number].md. They are based-off problems from Leetcode."
      ],
      "metadata": {
        "id": "LkFZKpTGTH-5"
      }
    },
    {
      "cell_type": "code",
      "source": [
        "(hash(\"suzanne michie\")%3)+1"
      ],
      "metadata": {
        "colab": {
          "base_uri": "https://localhost:8080/",
          "height": 0
        },
        "id": "alNlb5vzhJKR",
        "outputId": "54f77bd0-8e58-468a-cd38-7af13532ac46"
      },
      "execution_count": 4,
      "outputs": [
        {
          "output_type": "execute_result",
          "data": {
            "text/plain": [
              "3"
            ]
          },
          "metadata": {},
          "execution_count": 4
        }
      ]
    },
    {
      "cell_type": "markdown",
      "source": [
        "**Question Three: Missing Number in Range**\n",
        "\n",
        "You are given a list containing `n` integers in the range `[0, n]`. Return a list of numbes that are missing from the range `[0, n]` of the array. If there is no missing number, return -1. Note, all the integers in the list may not be unique.\n",
        "\n",
        "**Examples**\n",
        "\n",
        "**Example 1**\n",
        "\n",
        "Input: `lst = [0, 2]`\n",
        "\n",
        "Output: [1]\n",
        "\n",
        "**Example 2**\n",
        "\n",
        "Input: `lst = [5, 0, 1]`\n",
        "\n",
        "Output: [2, 3, 4]\n",
        "\n",
        "**Example 3**\n",
        "\n",
        "Input: `lst = [6, 8, 2, 3, 5, 7, 0, 1, 10]`\n",
        "\n",
        "Output: [4, 9]\n",
        "\n",
        "**Starter Code**\n",
        "```\n",
        "def missing_num(nums: List) -> int:\n",
        "    # TODO\n",
        "```\n"
      ],
      "metadata": {
        "id": "N-Wpbq7aUMdw"
      }
    },
    {
      "cell_type": "markdown",
      "source": [
        "**Part 2:**\n",
        "\n",
        "In a Jupyter Notebook (.ipynb) file, create 6 headings are write down the following:\n"
      ],
      "metadata": {
        "id": "5aoVaUyzTTZs"
      }
    },
    {
      "cell_type": "markdown",
      "source": [
        "Paraphrase the problem in your own words\n",
        "\n",
        "**Answer: Given a list of n integers within the range [0, n], the task is to provide a list of numbers that are absent from the array's range [0, n]. If there are no missing numbers, the function should return -1. It is important to note that the integers in the list may not be unique.**\n"
      ],
      "metadata": {
        "id": "HKKLMaX3TXSm"
      }
    },
    {
      "cell_type": "markdown",
      "source": [
        "In the .md file containing your problem, there are examples that illustrate how the code should work. Create 2 new examples that demonstrate you understand the problem.\n",
        "\n",
        "**Answer:**\n",
        "\n",
        "**Example 4**\n",
        "\n",
        "Input: `lst = [1, 2, 4, 5, 7, 10]`\n",
        "\n",
        "Output: [0, 3, 6]\n",
        "\n",
        "**Example 5**\n",
        "\n",
        "Input: `lst = [0, 2, 3, 4, 6, 8, 9]`\n",
        "\n",
        "Output: [1, 5, 7]"
      ],
      "metadata": {
        "id": "QFZpfe45TZlx"
      }
    },
    {
      "cell_type": "markdown",
      "source": [
        "Code the solution to your assigned problem in Python (code chunk). Try to find the best time and space complexity solution!\n",
        "\n",
        "**Answer:**"
      ],
      "metadata": {
        "id": "sv9KTWIaTclv"
      }
    },
    {
      "cell_type": "code",
      "source": [
        "from typing import List\n",
        "\n",
        "def missing_num(nums: List[int]) -> List[int]:\n",
        "    n = len(nums)\n",
        "\n",
        "    # Create a set to store the unique numbers in the given list\n",
        "    num_set = set(nums)\n",
        "\n",
        "    # Initialize a list to store the missing numbers\n",
        "    missing_numbers = []\n",
        "\n",
        "    # Iterate through the range [0, n] and check for missing numbers\n",
        "    for i in range(n + 1):\n",
        "        if i not in num_set:\n",
        "            missing_numbers.append(i)\n",
        "\n",
        "    # If there are missing numbers, return the list. Otherwise, return [-1]\n",
        "    return missing_numbers if missing_numbers else [-1]\n",
        "\n",
        "# Example usage:\n",
        "lst1 = [0, 2]\n",
        "print(missing_num(lst1))  # Output: [1]\n",
        "\n",
        "lst2 = [5, 0, 1]\n",
        "print(missing_num(lst2))  # Output: [2, 3, 4]\n",
        "\n",
        "lst3 = [6, 8, 2, 3, 5, 7, 0, 1, 10]\n",
        "print(missing_num(lst3))  # Output: [4, 9]\n",
        "\n"
      ],
      "metadata": {
        "colab": {
          "base_uri": "https://localhost:8080/",
          "height": 0
        },
        "id": "kJoOwdQyyUNi",
        "outputId": "eea9ab68-0701-44e8-cfe6-373a0f3dda4e"
      },
      "execution_count": 2,
      "outputs": [
        {
          "output_type": "stream",
          "name": "stdout",
          "text": [
            "[1]\n",
            "[2, 3]\n",
            "[4, 9]\n"
          ]
        }
      ]
    },
    {
      "cell_type": "code",
      "source": [
        "# Example 4\n",
        "lst4 = [1, 2, 4, 5, 7, 10]\n",
        "print(missing_num(lst4))  # Output: [0, 3, 6]\n",
        "\n",
        "# Example 5\n",
        "lst5 = [0, 2, 3, 4, 6, 8, 9]\n",
        "print(missing_num(lst5))  # Output: [1, 5, 7]"
      ],
      "metadata": {
        "colab": {
          "base_uri": "https://localhost:8080/",
          "height": 0
        },
        "id": "7n1VHKtCyYhr",
        "outputId": "aa6d017f-f1d0-439e-ce90-b64993326b72"
      },
      "execution_count": 3,
      "outputs": [
        {
          "output_type": "stream",
          "name": "stdout",
          "text": [
            "[0, 3, 6]\n",
            "[1, 5, 7]\n"
          ]
        }
      ]
    },
    {
      "cell_type": "markdown",
      "source": [
        "Explain why your solution works\n",
        "\n",
        "**Answer:**\n",
        "\n",
        "The solution works by using a set to efficiently check for the presence of numbers in the given list.\n",
        "\n",
        "The code creates a set (`num_set`) to store the unique numbers in the given list (`nums`). It then iterates through the range `[0, n]` using a loop, where `n` is the length of the input list `nums`. Inside the loop, it checks whether each number `i` is present in the set `num_set`. If `i` is not in the set, it means `i` is a missing number, and it is appended to the `missing_numbers` list. After the loop completes, the function checks if there are any missing numbers. If there are, it returns the list of missing numbers. Otherwise, it returns `[-1]`.\n"
      ],
      "metadata": {
        "id": "_JLKgfOETf_G"
      }
    },
    {
      "cell_type": "markdown",
      "source": [
        "Explain the problem’s time and space complexity\n",
        "\n",
        "**Answer:**\n",
        "\n",
        "**Time Complexity:** The time complexity of the provided solution is O(n), where `n` is the length of the input list `nums`. The main factor contributing to the time complexity is the loop that iterates through the range `[0, n]`. The code also performs a constant-time operation by checking whether the current number is in the set `num_set`.\n",
        "\n",
        "**Space Complexity:** The space complexity of the solution is also O(n). The primary space usage comes from the set `num_set` created to store the unique numbers in the input list."
      ],
      "metadata": {
        "id": "lmZZL7KKThzg"
      }
    },
    {
      "cell_type": "markdown",
      "source": [
        "Explain the thinking to an alternative solution (no coding required, but a classmate reading this should be able to code it up based off your text)\n",
        "\n",
        "**Answer:**\n",
        "\n",
        "An alternative solution could involve using the mathematical property of the sum of the first n numbers. The sum of the first n numbers can be expressed as n * (n + 1) / 2.\n",
        "\n",
        "1. Calculate Expected Sum: Determine the expected sum of the first n numbers using the formula: expected_sum = n * (n + 1) / 2.\n",
        "\n",
        "2. Calculate Actual Sum: Compute the sum of the elements in the given list (nums). This can be done with a loop or a built-in sum function.\n",
        "\n",
        "3. Identify Missing Number(s): Subtract the actual sum from the expected sum. The result will be the sum of the missing number(s).\n",
        "\n",
        "4. Return Result: If there are missing numbers, return the list of missing numbers. Otherwise, return -1.\n",
        "\n",
        "This approach can be more memory-efficient than the previous one, as it doesn't require the creation of a set."
      ],
      "metadata": {
        "id": "Wxszrz_yTj3D"
      }
    }
  ]
}