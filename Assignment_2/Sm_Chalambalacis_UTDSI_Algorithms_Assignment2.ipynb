{
  "nbformat": 4,
  "nbformat_minor": 0,
  "metadata": {
    "colab": {
      "provenance": []
    },
    "kernelspec": {
      "name": "python3",
      "display_name": "Python 3"
    },
    "language_info": {
      "name": "python"
    }
  },
  "cells": [
    {
      "cell_type": "markdown",
      "source": [
        "# **UofT DSI Algorithms**\n",
        "**Assignment 2**\n",
        "\n",
        "Submitted by Suzanne M Chalambalacis\n",
        "1-Mar-2024"
      ],
      "metadata": {
        "id": "n7_ixzbVNH-V"
      }
    },
    {
      "cell_type": "markdown",
      "source": [
        "**Objective**\n",
        "\n",
        "The partner assignment aims to provide students with the opportunity to practice coding in an interview context. You will analyze your partner's Assignment 1. Moreover, code reviews are common practice in a software development team. This assignment should give you a taste of the code review process."
      ],
      "metadata": {
        "id": "8yqcCXTfVqhU"
      }
    },
    {
      "cell_type": "markdown",
      "source": [
        "**Part 1:**\n",
        "\n",
        "You and your partner should send to each other your Assignment 1 submission.\n",
        "\n",
        "**Partner is Leila Samar and her Assignment 1 can be found here: https://github.com/LeilaSamar/Algorithms.git**\n",
        "\n",
        "**Leila completed Question 1, which is outlined below.**\n",
        "\n",
        "```\n",
        "(hash('Leila')%3)+1\n",
        "1\n",
        "```\n"
      ],
      "metadata": {
        "id": "LkFZKpTGTH-5"
      }
    },
    {
      "cell_type": "markdown",
      "source": [
        "**Question One: Check Duplicates in Tree**\n",
        "\n",
        "Given the root of a binary tree, check whether it is contains a duplicate value. If a duplicate exists, return the duplicate value. If there are multiple duplicates, return the one with the closest distance to the root. If no duplicate exists, return -1.\n",
        "\n",
        "**Examples**\n",
        "\n",
        "**Example 1**\n",
        "\n",
        "Input: `root = [1, 2, 2, 3, 5, 6, 7]` *What traversal method is this?*\n",
        "\n",
        "Output: 2\n",
        "\n",
        "**Example 2**\n",
        "\n",
        "Input: `root = [1, 10, 2, 3, 10, 12, 12]`\n",
        "\n",
        "Output: 10\n",
        "\n",
        "**Example 3**\n",
        "\n",
        "Input: `root = [10, 9, 8, 7]`\n",
        "\n",
        "Output: -1\n",
        "\n",
        "**Starter Code**\n",
        "```\n",
        "# Definition for a binary tree node.\n",
        "# class TreeNode(object):\n",
        "#     def __init__(self, val = 0, left = None, right = None):\n",
        "#         self.val = val\n",
        "#         self.left = left\n",
        "#         self.right = right\n",
        "def is_symmetric(root: TreeNode) -> int:\n",
        "    # TODO\n",
        "```\n"
      ],
      "metadata": {
        "id": "N-Wpbq7aUMdw"
      }
    },
    {
      "cell_type": "markdown",
      "source": [
        "**Part 2:**\n",
        "\n",
        "Create a Jupyter Notebook, create 6 of the following headings, and complete the following about the your partner's assignment 1:\n"
      ],
      "metadata": {
        "id": "5aoVaUyzTTZs"
      }
    },
    {
      "cell_type": "markdown",
      "source": [
        "Paraphrase the problem in your own words\n",
        "\n",
        "**Answer:**\n",
        "\n",
        "**Given the root of a binary tree, the task is to determine whether the tree contains any duplicate values. If duplicates exist, the goal is to find and return the duplicate value that is closest to the root by distance. If there are multiple duplicates, the one with the minimum distance should be returned. If no duplicates exist, the function should return -1.**\n"
      ],
      "metadata": {
        "id": "HKKLMaX3TXSm"
      }
    },
    {
      "cell_type": "markdown",
      "source": [
        "Create 1 new example that demonstrates you understand the problem. Trace/walkthrough 1 example that your partner made and explain it.\n",
        "\n",
        "**Answer:**\n",
        "\n",
        "**My example**\n",
        "\n",
        "Input: `root = [5, 3, 8, 2, 6, 3, 9, 7]`\n",
        "\n",
        "Output: 3\n",
        "\n",
        "In my example the example, the binary tree has a duplicate value of 3.\n",
        "\n",
        "**Leila's Example 1**\n",
        "\n",
        "Input: `root = [8, 8, 10, 15, 20, 10]`\n",
        "\n",
        "Output: 8\n",
        "\n",
        "In Leila's Example 1, the binary tree can be visualized as:\n",
        "```\n",
        "      8\n",
        "     / \\\n",
        "    8   10\n",
        "       / \\\n",
        "      15  20\n",
        "         /\n",
        "        10\n",
        "```\n",
        "\n",
        "In Leila's Example 1, the binary tree can be traced and explained as follows:\n",
        "\n",
        "1. Starting with the root node `8`, we can move down the left child `8` which is a duplicate value at a depth of `0`. This is the end of this branch with a duplicate value `8` at a depth of `0`.\n",
        "2. Starting with the root node `8`, we can move down the right child `10` which is not a duplicate, then move to it's left child `15` which is also not a duplicate. This is the end of this branch with no duplicates.\n",
        "3. Returning to the child node `10`, we can move down the left child `20` which is not a duplicate, then move to it's left child `10` which is a duplicate value at a depth of `1`. This is the end of this branch with a duplicate value of `10` at a depth of `1`.\n",
        "4. The duplicate value of `10` at a depth of `1` has a greater distance then the previous duplicate value of `8` at a depth of `0`, therefore, the output is `8` as this is the closest duplicate value to the root."
      ],
      "metadata": {
        "id": "QFZpfe45TZlx"
      }
    },
    {
      "cell_type": "markdown",
      "source": [
        "Copy the solution your partner wrote.\n",
        "\n",
        "**Answer:**"
      ],
      "metadata": {
        "id": "sv9KTWIaTclv"
      }
    },
    {
      "cell_type": "code",
      "source": [
        "## Full code in Python to solve the Check Duplicates in Tree problem using the provided starter code. You can test this code snippet in your environment by\n",
        "# Definition for a binary tree node.\n",
        "# class TreeNode(object):\n",
        "#   def __init__(self, val=0, left=None, right=None):\n",
        "#     self.val = val\n",
        "#     self.left = left\n",
        "#     self.right = right\n",
        "\n",
        "class TreeNode:\n",
        "  def __init__(self, val=0, left=None, right=None):\n",
        "    self.val = val\n",
        "    self.left = left\n",
        "    self.right = right\n",
        "\n",
        "def is_symmetric(root: TreeNode) -> int:\n",
        "  def dfs(node, depth, seen):\n",
        "    if not node:\n",
        "      return -1\n",
        "\n",
        "    if node.val in seen:\n",
        "      return depth\n",
        "\n",
        "    seen.add(node.val)\n",
        "\n",
        "    left = dfs(node.left, depth + 1, seen.copy())\n",
        "    right = dfs(node.right, depth + 1, seen)\n",
        "\n",
        "    if left != -1 and right != -1:\n",
        "      return min(left, right)\n",
        "    return max(left, right)\n",
        "\n",
        "  return dfs(root, 0, set())\n",
        "\n",
        "# Test the function\n",
        "# Sample tree creation for testing\n",
        "class TreeNode:\n",
        "  def __init__(self, val=0, left=None, right=None):\n",
        "    self.val = val\n",
        "    self.left = left\n",
        "    self.right = right\n",
        "\n",
        "root = TreeNode(1)\n",
        "root.left = TreeNode(2)\n",
        "root.right = TreeNode(2)\n",
        "root.left.left = TreeNode(3)\n",
        "root.left.right = TreeNode(5)\n",
        "root.right.left = TreeNode(6)\n",
        "root.right.right = TreeNode(7)\n",
        "\n",
        "print(is_symmetric(root)) # Output: 2"
      ],
      "metadata": {
        "colab": {
          "base_uri": "https://localhost:8080/"
        },
        "id": "kJoOwdQyyUNi",
        "outputId": "a90dea77-6c31-4314-d2df-aaf01355c814"
      },
      "execution_count": null,
      "outputs": [
        {
          "output_type": "stream",
          "name": "stdout",
          "text": [
            "-1\n"
          ]
        }
      ]
    },
    {
      "cell_type": "markdown",
      "source": [
        "Explain why their solution works in your own words.\n",
        "\n",
        "**Answer:**\n",
        "\n",
        "For the Check Duplicates in Tree problem. Leila's code uses a depth-first search (DFS) approach to traverse the binary tree and keeps track of the seen values at each depth. If a duplicate value is encountered, it compares the depths and returns the one with the minimum depth. If there are no duplicates, it returns -1.\n",
        "\n",
        "Leila has also included a test case with a sample tree to verify the function's correctness.\n",
        "\n",
        "\n"
      ],
      "metadata": {
        "id": "_JLKgfOETf_G"
      }
    },
    {
      "cell_type": "markdown",
      "source": [
        "Explain the problem’s time and space complexity in your own words.\n",
        "\n",
        "**Answer:**\n",
        "\n",
        "**Time Complexity:**\n",
        "\n",
        "The time complexity of the solution is O(n), where `n` is the number of nodes in the binary tree. This is because the solution performs a depth-first traversal of the entire tree, visiting each node once.\n",
        "\n",
        "\n",
        "**Space Complexity:**\n",
        "\n",
        "The space complexity is O(h), where `h` is the height of the binary tree. In the worst case, the space required for the set of seen values is proportional to the height of the tree. This is because the depth-first traversal involves recursive calls, and the depth of the recursion is determined by the height of the tree."
      ],
      "metadata": {
        "id": "lmZZL7KKThzg"
      }
    },
    {
      "cell_type": "markdown",
      "source": [
        "Critique your partner's solution, including explanation, if there is anything should be adjusted.\n",
        "\n",
        "**Answer:**\n",
        "\n",
        "The solution overall is well-structured and correctly addresses the problem. It uses a depth-first search (DFS) approach to traverse the binary tree, keeping track of the seen values and their depths. The function then returns the closest duplicate value.\n",
        "\n"
      ],
      "metadata": {
        "id": "Wxszrz_yTj3D"
      }
    },
    {
      "cell_type": "markdown",
      "source": [
        "**Part 3: Reflection**\n",
        "\n",
        "Please write a 200 word reflection documenting your studying process from assignment 1, and your presentation and reviewing experience with your partner at the bottom of the Juypter Notebook under a new heading \"Reflection.\" Again, export this Notebook as pdf.\n",
        "\n",
        "**Answer:**\n",
        "\n",
        "Solving the \"Check Duplicates in Tree\" problem was interesting because it required a systematic approach to understand the problem and design an efficient solution. After reviewing the problem statement, I identified the key requirements such as finding the closest duplicate value and handling multiple occurrences. I think Leila's approach with the depth-first traversal was the most suitable choice for tree exploration.\n",
        "\n",
        "The problem/exercise involved breaking down the problem into manageable components and designing an algorithm that could handle the occurrences of multiple duplicates. I found it to be an interesting exercise that allowed me to further understand the binary tree structures and the principles of recursion, especially since the recursive nature of the algorithm required keeping track of seen values at different depths.\n",
        "\n",
        "Reviewing a partner's code also emphasised the importance of clarity and simplicity in code presentation, and the importance of including notes along the way. This has been discussed in multiple instructors for this course and this experience helps underscores why we should do that with our codes and why it's important when collaborating with others.\n"
      ],
      "metadata": {
        "id": "1lh5zYphkx6A"
      }
    }
  ]
}